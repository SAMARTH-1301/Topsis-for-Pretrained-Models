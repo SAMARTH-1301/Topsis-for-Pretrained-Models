{
  "nbformat": 4,
  "nbformat_minor": 0,
  "metadata": {
    "colab": {
      "provenance": [],
      "toc_visible": true,
      "authorship_tag": "ABX9TyPfujiBcZji+XxFgE/+QMcW",
      "include_colab_link": true
    },
    "kernelspec": {
      "name": "python3",
      "display_name": "Python 3"
    },
    "language_info": {
      "name": "python"
    }
  },
  "cells": [
    {
      "cell_type": "markdown",
      "metadata": {
        "id": "view-in-github",
        "colab_type": "text"
      },
      "source": [
        "<a href=\"https://colab.research.google.com/github/SAMARTH-1301/Topsis-for-Pretrained-Models/blob/main/Topsis_.ipynb\" target=\"_parent\"><img src=\"https://colab.research.google.com/assets/colab-badge.svg\" alt=\"Open In Colab\"/></a>"
      ]
    },
    {
      "cell_type": "code",
      "source": [
        "import numpy as np\n",
        "import pandas as pd\n",
        "import matplotlib.pyplot as plt\n",
        "\n",
        "models_data = {\n",
        "    'Model': ['BERT', 'RoBERTa', 'DistilBERT', 'ALBERT', 'XLNet'],\n",
        "    'Accuracy': [0.92, 0.94, 0.89, 0.88, 0.91],\n",
        "    'Training_Time': [4.5, 5.0, 2.5, 2.0, 4.0],\n",
        "    'Model_Size': [1.2, 1.5, 0.5, 0.7, 1.1],\n",
        "    'F1_Score': [0.91, 0.93, 0.88, 0.87, 0.90]\n",
        "}\n",
        "\n",
        "def apply_topsis(df, weights, criteria):\n",
        "\n",
        "    decision_matrix = df.iloc[:, 1:].values\n",
        "\n",
        "    normalized_matrix = decision_matrix / np.sqrt(np.sum(decision_matrix**2, axis=0))\n",
        "\n",
        "    weighted_matrix = normalized_matrix * weights\n",
        "\n",
        "    ideal = np.zeros(len(weights))\n",
        "    negative_ideal = np.zeros(len(weights))\n",
        "\n",
        "    for i in range(len(weights)):\n",
        "        if criteria[i] == '+':\n",
        "            ideal[i] = np.max(weighted_matrix[:, i])\n",
        "            negative_ideal[i] = np.min(weighted_matrix[:, i])\n",
        "        else:\n",
        "            ideal[i] = np.min(weighted_matrix[:, i])\n",
        "            negative_ideal[i] = np.max(weighted_matrix[:, i])\n",
        "\n",
        "    s_positive = np.sqrt(np.sum((weighted_matrix - ideal)**2, axis=1))\n",
        "    s_negative = np.sqrt(np.sum((weighted_matrix - negative_ideal)**2, axis=1))\n",
        "\n",
        "    closeness = s_negative / (s_positive + s_negative)\n",
        "\n",
        "    return closeness\n",
        "\n",
        "def plot_results(df, scores):\n",
        "    \"\"\"Create a bar plot of TOPSIS scores\"\"\"\n",
        "    plt.figure(figsize=(10, 6))\n",
        "    plt.bar(df['Model'], scores)\n",
        "    plt.title('TOPSIS Scores for Text Classification Models')\n",
        "    plt.xlabel('Models')\n",
        "    plt.ylabel('TOPSIS Score')\n",
        "    plt.xticks(rotation=45)\n",
        "    plt.tight_layout()\n",
        "\n",
        "    plt.savefig('topsis_results.png')\n",
        "    plt.close()\n",
        "\n",
        "def main():\n",
        "\n",
        "    df = pd.DataFrame(models_data)\n",
        "\n",
        "    weights = np.array([0.3, 0.2, 0.2, 0.3])\n",
        "\n",
        "    criteria = ['+', '-', '-', '+']\n",
        "\n",
        "    topsis_scores = apply_topsis(df, weights, criteria)\n",
        "\n",
        "    df['TOPSIS_Score'] = topsis_scores\n",
        "\n",
        "    results = df.sort_values('TOPSIS_Score', ascending=False)\n",
        "\n",
        "    plot_results(df, topsis_scores)\n",
        "\n",
        "    print(\"\\nTOPSIS Analysis Results:\")\n",
        "    print(\"-\" * 50)\n",
        "    print(results)\n",
        "    print(\"\\nBest Model:\", results.iloc[0]['Model'])\n",
        "    print(\"TOPSIS Score:\", round(results.iloc[0]['TOPSIS_Score'], 4))\n",
        "\n",
        "    return results\n",
        "\n",
        "if __name__ == \"__main__\":\n",
        "    results = main()"
      ],
      "metadata": {
        "colab": {
          "base_uri": "https://localhost:8080/"
        },
        "id": "iT3w4PaG7-KB",
        "outputId": "0399dcef-9fe1-446e-f869-1efc25ccc214"
      },
      "execution_count": 2,
      "outputs": [
        {
          "output_type": "stream",
          "name": "stdout",
          "text": [
            "\n",
            "TOPSIS Analysis Results:\n",
            "--------------------------------------------------\n",
            "        Model  Accuracy  Training_Time  Model_Size  F1_Score  TOPSIS_Score\n",
            "2  DistilBERT      0.89            2.5         0.5      0.88      0.866792\n",
            "3      ALBERT      0.88            2.0         0.7      0.87      0.823046\n",
            "4       XLNet      0.91            4.0         1.1      0.90      0.374654\n",
            "0        BERT      0.92            4.5         1.2      0.91      0.258423\n",
            "1     RoBERTa      0.94            5.0         1.5      0.93      0.102700\n",
            "\n",
            "Best Model: DistilBERT\n",
            "TOPSIS Score: 0.8668\n"
          ]
        }
      ]
    }
  ]
}